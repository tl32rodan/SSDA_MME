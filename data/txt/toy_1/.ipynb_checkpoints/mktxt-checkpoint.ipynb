{
 "cells": [
  {
   "cell_type": "code",
   "execution_count": 8,
   "metadata": {},
   "outputs": [],
   "source": [
    "import os\n",
    "import random"
   ]
  },
  {
   "cell_type": "code",
   "execution_count": 7,
   "metadata": {},
   "outputs": [],
   "source": [
    "with open('labeled_source_images_Strain.txt','w') as fp:\n",
    "    cls_idx = 0\n",
    "    \n",
    "    root = '../../toy_1/Strain/'\n",
    "    for cls in os.listdir(root):\n",
    "        for img in os.listdir(root+cls):\n",
    "            fp.write(os.path.join('Strain/',cls,img)+' '+str(cls_idx)+'\\n')\n",
    "        cls_idx += 1\n",
    "    fp.close()"
   ]
  },
  {
   "cell_type": "code",
   "execution_count": 13,
   "metadata": {},
   "outputs": [],
   "source": [
    "t_labeled = []\n",
    "t_val = []\n",
    "t_unl = []\n",
    "\n",
    "cls_idx = 0\n",
    "    \n",
    "root = '../../toy_1/Ttrain/'\n",
    "for cls in os.listdir(root):\n",
    "    img_full_names = []\n",
    "    \n",
    "    if os.path.isdir(root+cls):\n",
    "        for img in os.listdir(root+cls):\n",
    "            img_full_names.append(os.path.join('Ttrain/',cls,img)+' '+str(cls_idx)+'\\n')\n",
    "\n",
    "        tmp = random.sample(img_full_names,6)\n",
    "        t_labeled += tmp[:3]\n",
    "        t_val += tmp[3:]\n",
    "        t_unl += [x for x in img_full_names if x not in tmp]\n",
    "\n",
    "        cls_idx += 1\n",
    "\n",
    "with open('labeled_target_images_Ttrain.txt','w') as fp:\n",
    "    for x in t_labeled:\n",
    "        fp.write(x)\n",
    "    fp.close()\n",
    "with open('validation_target_images_Ttrain.txt','w') as fp:\n",
    "    for x in t_val:\n",
    "        fp.write(x)\n",
    "    fp.close()\n",
    "with open('unlabeled_target_images_Ttrain.txt','w') as fp:\n",
    "    for x in t_unl:\n",
    "        fp.write(x)\n",
    "    fp.close()"
   ]
  },
  {
   "cell_type": "code",
   "execution_count": 15,
   "metadata": {},
   "outputs": [],
   "source": [
    "with open('unlabeled_target_images_Ttest.txt','w') as fp:\n",
    "    cls_idx = 0\n",
    "    \n",
    "    root = '../../toy_1/Ttest/'\n",
    "    for cls in os.listdir(root):\n",
    "        if os.path.isdir(root+cls):\n",
    "            for img in os.listdir(root+cls):\n",
    "                fp.write(os.path.join('Ttest/',cls,img)+' '+str(cls_idx)+'\\n')\n",
    "            cls_idx += 1\n",
    "    fp.close()"
   ]
  },
  {
   "cell_type": "code",
   "execution_count": null,
   "metadata": {},
   "outputs": [],
   "source": []
  }
 ],
 "metadata": {
  "kernelspec": {
   "display_name": "Python 3",
   "language": "python",
   "name": "python3"
  },
  "language_info": {
   "codemirror_mode": {
    "name": "ipython",
    "version": 3
   },
   "file_extension": ".py",
   "mimetype": "text/x-python",
   "name": "python",
   "nbconvert_exporter": "python",
   "pygments_lexer": "ipython3",
   "version": "3.6.10"
  }
 },
 "nbformat": 4,
 "nbformat_minor": 4
}
